{
 "cells": [
  {
   "cell_type": "code",
   "execution_count": 9,
   "metadata": {},
   "outputs": [
    {
     "name": "stdout",
     "output_type": "stream",
     "text": [
      "Train on 25000 samples, validate on 10000 samples\n",
      "Epoch 1/4\n",
      "25000/25000 [==============================] - 4s 159us/step - loss: 0.4484 - acc: 0.8173 - val_loss: 0.2804 - val_acc: 0.9109\n",
      "Epoch 2/4\n",
      "25000/25000 [==============================] - 4s 142us/step - loss: 0.2546 - acc: 0.9095 - val_loss: 0.2151 - val_acc: 0.9239\n",
      "Epoch 3/4\n",
      "25000/25000 [==============================] - 3s 127us/step - loss: 0.1968 - acc: 0.9296 - val_loss: 0.1531 - val_acc: 0.9508\n",
      "Epoch 4/4\n",
      "25000/25000 [==============================] - 3s 123us/step - loss: 0.1668 - acc: 0.9411 - val_loss: 0.1298 - val_acc: 0.9597\n",
      "25000/25000 [==============================] - 3s 117us/step\n"
     ]
    },
    {
     "data": {
      "text/plain": [
       "[0.29503511348724365, 0.88352]"
      ]
     },
     "execution_count": 9,
     "metadata": {},
     "output_type": "execute_result"
    }
   ],
   "source": [
    "import numpy as np\n",
    "import keras\n",
    "from keras.datasets import imdb\n",
    "(trnd,trnl),(tstd,tstl)=imdb.load_data(num_words=10000)\n",
    "def vectorise(sequences,dimension=10000):\n",
    "    result =np.zeros((len(sequences),dimension))\n",
    "    for i,sequence in enumerate(sequences):\n",
    "        result[i,sequence]=1\n",
    "    return result\n",
    "x_train = vectorise(trnd)\n",
    "x_test = vectorise(tstd)\n",
    "y_test = np.asarray(tstl).astype('float32')\n",
    "y_train = np.asarray(trnl).astype('float32')\n",
    "from keras import layers,models\n",
    "model = models.Sequential()\n",
    "model.add(layers.Dense(16,activation='relu',input_shape=(10000,)))\n",
    "model.add(layers.Dense(16,activation='relu'))\n",
    "model.add(layers.Dense(1,activation='sigmoid'))\n",
    "model.compile(optimizer='rmsprop',loss='binary_crossentropy',metrics=['accuracy'])\n",
    "x_val=x_train[:10000]\n",
    "partial_x_train=x_train[10000:]\n",
    "y_val=y_train[:10000]\n",
    "partial_y_train=y_train[10000:]\n",
    "history = model.fit(x_train, y_train, epochs=4, batch_size=512,validation_data=(x_val, y_val))\n",
    "results = model.evaluate(x_test, y_test)\n",
    "results\n",
    "\n"
   ]
  },
  {
   "cell_type": "code",
   "execution_count": null,
   "metadata": {},
   "outputs": [],
   "source": []
  }
 ],
 "metadata": {
  "kernelspec": {
   "display_name": "Python 3",
   "language": "python",
   "name": "python3"
  },
  "language_info": {
   "codemirror_mode": {
    "name": "ipython",
    "version": 3
   },
   "file_extension": ".py",
   "mimetype": "text/x-python",
   "name": "python",
   "nbconvert_exporter": "python",
   "pygments_lexer": "ipython3",
   "version": "3.7.4"
  }
 },
 "nbformat": 4,
 "nbformat_minor": 2
}
